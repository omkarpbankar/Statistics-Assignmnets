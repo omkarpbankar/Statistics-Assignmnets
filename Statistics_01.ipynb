{
 "cells": [
  {
   "cell_type": "markdown",
   "id": "8bb3fe10",
   "metadata": {},
   "source": [
    "# 1.\tHarvard Law School courses often have assigned seating to facilitate the “Socratic method.” Suppose that there are 100 firstyear Harvard Law students, and each takes two courses: Torts and Contracts. Both are held in the same lecture hall (which has 100 seats), and the seating is uniformly random and independent for the two courses.\n",
    "\n",
    "\n",
    "\n",
    "(a) Find the probability that no one has the same seat for both courses (exactly; you should   leave your answer as a sum). \n",
    "(b) Find a simple but accurate approximation to the probability that no one has the same seat for both courses. \n",
    "(c) Find a simple but accurate approximation to the probability that at least two students have the same seat for both courses.\n"
   ]
  },
  {
   "cell_type": "code",
   "execution_count": 1,
   "id": "49e2f8f7",
   "metadata": {},
   "outputs": [
    {
     "name": "stdout",
     "output_type": "stream",
     "text": [
      "1.0 2.71828\n"
     ]
    }
   ],
   "source": [
    "#given\n",
    "\n",
    "e =  2.71828\n",
    "n = 100\n",
    "same_seat_prob = 1/100\n",
    "non_same_seat_prob = 99/100\n",
    "# n is high and same_seat_prob is very less, binomial tends to poisson\n",
    "lambda_value = n*same_seat_prob  #np\n",
    "print(lambda_value,e)  "
   ]
  },
  {
   "cell_type": "code",
   "execution_count": 2,
   "id": "0d5f89c0",
   "metadata": {},
   "outputs": [
    {
     "name": "stdout",
     "output_type": "stream",
     "text": [
      "0.36787968862663156\n"
     ]
    }
   ],
   "source": [
    "#(a) and (b)\n",
    "import math\n",
    "x = 0     #no one has same seat\n",
    "prob_no_same_seat = ((lambda_value**x)*(e**(-lambda_value)))/math.factorial(x)\n",
    "print(prob_no_same_seat)"
   ]
  },
  {
   "cell_type": "code",
   "execution_count": 3,
   "id": "1fd0978e",
   "metadata": {},
   "outputs": [
    {
     "data": {
      "text/plain": [
       "0.2642406227467369"
      ]
     },
     "execution_count": 3,
     "metadata": {},
     "output_type": "execute_result"
    }
   ],
   "source": [
    "# (c)\n",
    "# P(x>=2) = 1-(P(x<2)= 1-(P(0)+P(1))\n",
    "x = 1\n",
    "prob_1_same_seat = ((lambda_value**x)*(e**(-lambda_value)))/math.factorial(x)\n",
    "prob_atleast_two = 1-(prob_no_same_seat + prob_1_same_seat )   \n",
    "prob_atleast_two"
   ]
  },
  {
   "cell_type": "markdown",
   "id": "11b1e6ec",
   "metadata": {},
   "source": [
    "# 2.\tThere are 100 passengers lined up to board an airplane with 100 seats (with each seat assigned to one of the passengers). The first passenger in line crazily decides to sit in a randomly chosen seat (with all seats equally likely). Each subsequent passenger takes his or her assigned seat if available, and otherwise sits in a random available seat. What is the probability that the last passenger in line gets to sit in his or her assigned seat?\n",
    "\n"
   ]
  },
  {
   "cell_type": "markdown",
   "id": "7bd405e8",
   "metadata": {},
   "source": [
    "To solve this problem, we can use a much smaller number for the number of people who are boarding the plane. So let’s say there are only two people boarding the plane with the 1st passenger’s assigned seat is A and the 2nd passenger’s assigned seat is B. If the 1st passenger, who seats randomly and takes A as his seat, then the 2nd passenger will take B as his seat. In this case, the 2nd passenger sits in the correct seat. However, if the 1st passenger, who sit randomly, takes B as his seat, then the 2nd passenger will have to take A as his seat. In this case, the 2nd passenger sits in the wrong seat. We see that if there are 2 passengers, the probability that the last passenger (i.e., the 2nd passenger) sits in the right seat is 1/2.\n",
    "\n",
    "Now let’s say there are only three people boarding the plane, and the 1st passenger’s assigned seat is A, the 2nd passenger’s assigned seat is B, and the 3rd passenger’s assigned seat is C. There are 3 scenarios:\n",
    "\n",
    "Scenario 1:\n",
    "If the 1st passenger, who lost seats randomly, takes A as his seat, then the 2nd passenger and 3rd passenger will take B and C as their seats, respectively.\n",
    "\n",
    "Scenario 2:\n",
    "If the 1st passenger takes B as his seat, then the 2nd passenger will take either A or C as his seat. If he takes A as his seat, then the 3rd passenger will take C, his assigned seat. However, if the second passenger takes C as his seat, then the 3rd passenger will take A as his seat, which is the wrong seat.\n",
    "\n",
    "Scenario 3:\n",
    "If the 1st passenger takes C as his seat, then regardless of which seat the 2nd passenger picks, the 3rd passenger will be sitting in the wrong seat.\n",
    "\n",
    "The probability that the last person (i.e., the 3rd person) sits in the correct seat is 1/3 from Scenario 1 and 1/3 x 1/2 = 1/6 from Scenario 2 and 0 from Scenario 3. Thus, the overall probability is 1/3 + 1/6 + 0 = 2/6 + 1/6 = 3/6 = 1/2.\n",
    "\n",
    "As we can see, regardless of the number of people boarding the plane, the probability that the last person will sit in the correct seat is 1/2.\n"
   ]
  },
  {
   "cell_type": "code",
   "execution_count": null,
   "id": "fbd2d12b",
   "metadata": {},
   "outputs": [],
   "source": [
    "answer: 1/2"
   ]
  }
 ],
 "metadata": {
  "kernelspec": {
   "display_name": "Python 3",
   "language": "python",
   "name": "python3"
  },
  "language_info": {
   "codemirror_mode": {
    "name": "ipython",
    "version": 3
   },
   "file_extension": ".py",
   "mimetype": "text/x-python",
   "name": "python",
   "nbconvert_exporter": "python",
   "pygments_lexer": "ipython3",
   "version": "3.8.12"
  }
 },
 "nbformat": 4,
 "nbformat_minor": 5
}
